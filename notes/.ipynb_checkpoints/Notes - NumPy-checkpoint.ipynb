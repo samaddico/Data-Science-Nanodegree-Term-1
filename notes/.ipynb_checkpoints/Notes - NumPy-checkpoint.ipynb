{
 "cells": [
  {
   "cell_type": "markdown",
   "metadata": {
    "slideshow": {
     "slide_type": "slide"
    }
   },
   "source": [
    "# NumPy"
   ]
  },
  {
   "cell_type": "markdown",
   "metadata": {
    "slideshow": {
     "slide_type": "subslide"
    }
   },
   "source": [
    "Multidimensional array with math properties"
   ]
  },
  {
   "cell_type": "code",
   "execution_count": 2,
   "metadata": {
    "slideshow": {
     "slide_type": "slide"
    }
   },
   "outputs": [
    {
     "name": "stdout",
     "output_type": "stream",
     "text": [
      "[1 3 4 5 2 4]\n",
      "(6,)\n",
      "int64\n"
     ]
    }
   ],
   "source": [
    "import numpy as np\n",
    "\n",
    "X = np.array([1,3,4,5,2,4])\n",
    "print(X)\n",
    "print(X.shape)\n",
    "print(X.dtype)"
   ]
  },
  {
   "cell_type": "code",
   "execution_count": 3,
   "metadata": {
    "slideshow": {
     "slide_type": "slide"
    }
   },
   "outputs": [
    {
     "name": "stdout",
     "output_type": "stream",
     "text": [
      "['Hello' 'World']\n",
      "<U5\n"
     ]
    }
   ],
   "source": [
    "X = np.array(['Hello','World'])\n",
    "print(X)\n",
    "print(X.dtype)"
   ]
  },
  {
   "cell_type": "code",
   "execution_count": 17,
   "metadata": {},
   "outputs": [
    {
     "name": "stdout",
     "output_type": "stream",
     "text": [
      "['1' '2' 'World']\n",
      "<U21\n"
     ]
    }
   ],
   "source": [
    "X = np.array([1,2,'World'])\n",
    "print(X)\n",
    "print(X.dtype)"
   ]
  },
  {
   "cell_type": "code",
   "execution_count": 24,
   "metadata": {},
   "outputs": [
    {
     "name": "stdout",
     "output_type": "stream",
     "text": [
      "[[1 2 3]\n",
      " [4 5 6]]\n",
      "(2, 3)\n",
      "int64\n"
     ]
    }
   ],
   "source": [
    "X = np.array([[1,2,3],[4,5,6]])\n",
    "print(X)\n",
    "print(X.shape)\n",
    "print(X.dtype)"
   ]
  },
  {
   "cell_type": "code",
   "execution_count": 25,
   "metadata": {},
   "outputs": [
    {
     "name": "stdout",
     "output_type": "stream",
     "text": [
      "[1.  2.5 3. ]\n",
      "(3,)\n",
      "float64\n"
     ]
    }
   ],
   "source": [
    "X = np.array([1,2.5,3])\n",
    "print(X)\n",
    "print(X.shape)\n",
    "print(X.dtype)"
   ]
  },
  {
   "cell_type": "code",
   "execution_count": 27,
   "metadata": {},
   "outputs": [
    {
     "name": "stdout",
     "output_type": "stream",
     "text": [
      "[1 2 3]\n",
      "(3,)\n",
      "int64\n"
     ]
    }
   ],
   "source": [
    "X = np.array([1.8,2.5,3.1], dtype=np.int64)\n",
    "print(X)\n",
    "print(X.shape)\n",
    "print(X.dtype)"
   ]
  },
  {
   "cell_type": "markdown",
   "metadata": {},
   "source": [
    "**NOTE** The numbers are truncated."
   ]
  },
  {
   "cell_type": "code",
   "execution_count": 29,
   "metadata": {},
   "outputs": [],
   "source": [
    "np.save('my_array', X)"
   ]
  },
  {
   "cell_type": "markdown",
   "metadata": {},
   "source": [
    "Saves array x to my_array.npy file."
   ]
  },
  {
   "cell_type": "code",
   "execution_count": 32,
   "metadata": {},
   "outputs": [
    {
     "name": "stdout",
     "output_type": "stream",
     "text": [
      "[1 2 3]\n"
     ]
    }
   ],
   "source": [
    "Y = np.load('my_array.npy')\n",
    "print(Y)"
   ]
  },
  {
   "cell_type": "markdown",
   "metadata": {},
   "source": [
    "Reads and loads my_array.npy file to Y"
   ]
  },
  {
   "cell_type": "code",
   "execution_count": 33,
   "metadata": {},
   "outputs": [
    {
     "data": {
      "text/plain": [
       "array([[0., 0., 0., 0.],\n",
       "       [0., 0., 0., 0.],\n",
       "       [0., 0., 0., 0.]])"
      ]
     },
     "execution_count": 33,
     "metadata": {},
     "output_type": "execute_result"
    }
   ],
   "source": [
    "np.zeros((3,4))"
   ]
  },
  {
   "cell_type": "code",
   "execution_count": 34,
   "metadata": {},
   "outputs": [
    {
     "data": {
      "text/plain": [
       "array([[1., 1.],\n",
       "       [1., 1.],\n",
       "       [1., 1.]])"
      ]
     },
     "execution_count": 34,
     "metadata": {},
     "output_type": "execute_result"
    }
   ],
   "source": [
    "np.ones((3,2))"
   ]
  },
  {
   "cell_type": "code",
   "execution_count": 35,
   "metadata": {},
   "outputs": [
    {
     "data": {
      "text/plain": [
       "array([[5, 5, 5],\n",
       "       [5, 5, 5]])"
      ]
     },
     "execution_count": 35,
     "metadata": {},
     "output_type": "execute_result"
    }
   ],
   "source": [
    "np.full((2,3), 5)"
   ]
  },
  {
   "cell_type": "code",
   "execution_count": 36,
   "metadata": {},
   "outputs": [
    {
     "data": {
      "text/plain": [
       "array([[1., 0., 0., 0., 0.],\n",
       "       [0., 1., 0., 0., 0.],\n",
       "       [0., 0., 1., 0., 0.],\n",
       "       [0., 0., 0., 1., 0.],\n",
       "       [0., 0., 0., 0., 1.]])"
      ]
     },
     "execution_count": 36,
     "metadata": {},
     "output_type": "execute_result"
    }
   ],
   "source": [
    "np.eye(5) "
   ]
  },
  {
   "cell_type": "code",
   "execution_count": 37,
   "metadata": {},
   "outputs": [
    {
     "data": {
      "text/plain": [
       "array([[1, 0, 0, 0],\n",
       "       [0, 2, 0, 0],\n",
       "       [0, 0, 3, 0],\n",
       "       [0, 0, 0, 4]])"
      ]
     },
     "execution_count": 37,
     "metadata": {},
     "output_type": "execute_result"
    }
   ],
   "source": [
    "np.diag([1,2,3,4]) "
   ]
  },
  {
   "cell_type": "code",
   "execution_count": 41,
   "metadata": {},
   "outputs": [
    {
     "data": {
      "text/plain": [
       "array([0, 1, 2, 3, 4, 5, 6, 7, 8, 9])"
      ]
     },
     "execution_count": 41,
     "metadata": {},
     "output_type": "execute_result"
    }
   ],
   "source": [
    "np.arange(10) \n"
   ]
  },
  {
   "cell_type": "code",
   "execution_count": 42,
   "metadata": {},
   "outputs": [
    {
     "data": {
      "text/plain": [
       "array([[ 0,  1,  2,  3],\n",
       "       [ 4,  5,  6,  7],\n",
       "       [ 8,  9, 10, 11]])"
      ]
     },
     "execution_count": 42,
     "metadata": {},
     "output_type": "execute_result"
    }
   ],
   "source": [
    "np.arange(12).reshape(3,4)"
   ]
  },
  {
   "cell_type": "code",
   "execution_count": 39,
   "metadata": {},
   "outputs": [
    {
     "data": {
      "text/plain": [
       "array([4, 5, 6, 7, 8, 9])"
      ]
     },
     "execution_count": 39,
     "metadata": {},
     "output_type": "execute_result"
    }
   ],
   "source": [
    "np.arange(4,10) "
   ]
  },
  {
   "cell_type": "code",
   "execution_count": 43,
   "metadata": {},
   "outputs": [
    {
     "data": {
      "text/plain": [
       "array([ 1,  4,  7, 10, 13])"
      ]
     },
     "execution_count": 43,
     "metadata": {},
     "output_type": "execute_result"
    }
   ],
   "source": [
    "np.arange(1,14,3)"
   ]
  },
  {
   "cell_type": "code",
   "execution_count": 45,
   "metadata": {},
   "outputs": [
    {
     "data": {
      "text/plain": [
       "array([ 0.        ,  2.77777778,  5.55555556,  8.33333333, 11.11111111,\n",
       "       13.88888889, 16.66666667, 19.44444444, 22.22222222, 25.        ])"
      ]
     },
     "execution_count": 45,
     "metadata": {},
     "output_type": "execute_result"
    }
   ],
   "source": [
    "np.linspace(0,25,10)"
   ]
  },
  {
   "cell_type": "code",
   "execution_count": 50,
   "metadata": {},
   "outputs": [
    {
     "data": {
      "text/plain": [
       "array([ 0,  2,  5,  8, 11, 13, 16, 19, 22, 25])"
      ]
     },
     "execution_count": 50,
     "metadata": {},
     "output_type": "execute_result"
    }
   ],
   "source": [
    "np.linspace(0,25,10, dtype=np.int64)"
   ]
  },
  {
   "cell_type": "code",
   "execution_count": 53,
   "metadata": {},
   "outputs": [
    {
     "data": {
      "text/plain": [
       "array([ 0. ,  2.5,  5. ,  7.5, 10. , 12.5, 15. , 17.5, 20. , 22.5])"
      ]
     },
     "execution_count": 53,
     "metadata": {},
     "output_type": "execute_result"
    }
   ],
   "source": [
    "np.linspace(0,25,10, endpoint=False)"
   ]
  },
  {
   "cell_type": "markdown",
   "metadata": {},
   "source": [
    "**NOTE** The default linspace creates an array with endpoint=True - meaning the range from 0 to 25 is split into 9 equal parts to account for the 10th value (the endpoint).  If endpoint=False, the data is split into 10 equal parts and the endpoint (25) is the largest value but not included in the array."
   ]
  },
  {
   "cell_type": "code",
   "execution_count": 54,
   "metadata": {},
   "outputs": [
    {
     "data": {
      "text/plain": [
       "array([[0.7144313 , 0.60635782, 0.94998124],\n",
       "       [0.18008858, 0.17579149, 0.9602239 ],\n",
       "       [0.91118026, 0.67976702, 0.00358585]])"
      ]
     },
     "execution_count": 54,
     "metadata": {},
     "output_type": "execute_result"
    }
   ],
   "source": [
    "np.random.random((3,3))"
   ]
  },
  {
   "cell_type": "markdown",
   "metadata": {},
   "source": [
    "**NOTE** Random numbers ranging from 0.0 to 1.0 exclusive."
   ]
  },
  {
   "cell_type": "code",
   "execution_count": 56,
   "metadata": {},
   "outputs": [
    {
     "data": {
      "text/plain": [
       "array([[ 8,  9],\n",
       "       [ 7,  5],\n",
       "       [ 8, 13]])"
      ]
     },
     "execution_count": 56,
     "metadata": {},
     "output_type": "execute_result"
    }
   ],
   "source": [
    "np.random.randint(4,15,size=(3,2))"
   ]
  },
  {
   "cell_type": "code",
   "execution_count": 73,
   "metadata": {},
   "outputs": [
    {
     "name": "stdout",
     "output_type": "stream",
     "text": [
      "[[101 193 146 134 132 100]\n",
      " [132 143 184 176 139 104]\n",
      " [158 102 152 115 172 156]\n",
      " [124 194 195 181 130 163]\n",
      " [114 182 105 147 150 179]\n",
      " [178 130 198 194 174 196]]\n",
      "The value of X at (3,5) is 172.\n",
      "3rd row, 5th column but must take into account 0 index.\n"
     ]
    }
   ],
   "source": [
    "X = np.random.randint(100,200,size=(6,6))\n",
    "\n",
    "print(X)\n",
    "print('The value of X at (3,5) is {}.'.format(X[2,4]))\n",
    "print('3rd row, 5th column but must take into account 0 index.')"
   ]
  },
  {
   "cell_type": "code",
   "execution_count": 74,
   "metadata": {},
   "outputs": [
    {
     "data": {
      "text/plain": [
       "array([193, 146, 134, 132, 100, 132, 143, 184, 176, 104, 158, 102, 152,\n",
       "       115, 172, 156, 124, 194, 195, 181, 130, 163, 114, 182, 105, 147,\n",
       "       150, 179, 178, 130, 198, 194, 174, 196])"
      ]
     },
     "execution_count": 74,
     "metadata": {},
     "output_type": "execute_result"
    }
   ],
   "source": [
    "np.delete(X, [0,10])"
   ]
  },
  {
   "cell_type": "markdown",
   "metadata": {},
   "source": [
    "**NOTE** The value of 103 (0th element) and 175 (10th element) were deleted and broke the shape of the data.  However, since it wasn't saved to X.  The original 6x6 array still exists."
   ]
  },
  {
   "cell_type": "code",
   "execution_count": 75,
   "metadata": {},
   "outputs": [
    {
     "name": "stdout",
     "output_type": "stream",
     "text": [
      "[[101 193 146 134 132 100]\n",
      " [132 143 184 176 139 104]\n",
      " [158 102 152 115 172 156]\n",
      " [124 194 195 181 130 163]\n",
      " [114 182 105 147 150 179]\n",
      " [178 130 198 194 174 196]]\n",
      "(6, 6)\n"
     ]
    }
   ],
   "source": [
    "print(X)\n",
    "print(X.shape)"
   ]
  },
  {
   "cell_type": "code",
   "execution_count": 79,
   "metadata": {},
   "outputs": [
    {
     "data": {
      "text/plain": [
       "array([[132, 143, 184, 176, 139, 104],\n",
       "       [158, 102, 152, 115, 172, 156],\n",
       "       [124, 194, 195, 181, 130, 163],\n",
       "       [114, 182, 105, 147, 150, 179],\n",
       "       [178, 130, 198, 194, 174, 196]])"
      ]
     },
     "execution_count": 79,
     "metadata": {},
     "output_type": "execute_result"
    }
   ],
   "source": [
    "np.delete(X, 0, axis=0) # Deletes first row"
   ]
  },
  {
   "cell_type": "code",
   "execution_count": 78,
   "metadata": {},
   "outputs": [
    {
     "data": {
      "text/plain": [
       "array([[193, 134, 132, 100],\n",
       "       [143, 176, 139, 104],\n",
       "       [102, 115, 172, 156],\n",
       "       [194, 181, 130, 163],\n",
       "       [182, 147, 150, 179],\n",
       "       [130, 194, 174, 196]])"
      ]
     },
     "execution_count": 78,
     "metadata": {},
     "output_type": "execute_result"
    }
   ],
   "source": [
    "np.delete(X, [0,2], axis=1) # Deletes first and 3rd column"
   ]
  },
  {
   "cell_type": "code",
   "execution_count": 80,
   "metadata": {},
   "outputs": [
    {
     "data": {
      "text/plain": [
       "array([101, 193, 146, 134, 132, 100, 132, 143, 184, 176, 139, 104, 158,\n",
       "       102, 152, 115, 172, 156, 124, 194, 195, 181, 130, 163, 114, 182,\n",
       "       105, 147, 150, 179, 178, 130, 198, 194, 174, 196,   7,   8])"
      ]
     },
     "execution_count": 80,
     "metadata": {},
     "output_type": "execute_result"
    }
   ],
   "source": [
    "np.append(X, [7,8]) # Adds 7 and 8 to end of X"
   ]
  },
  {
   "cell_type": "code",
   "execution_count": 81,
   "metadata": {},
   "outputs": [
    {
     "data": {
      "text/plain": [
       "array([[101, 193, 146, 134, 132, 100],\n",
       "       [132, 143, 184, 176, 139, 104],\n",
       "       [158, 102, 152, 115, 172, 156],\n",
       "       [124, 194, 195, 181, 130, 163],\n",
       "       [114, 182, 105, 147, 150, 179],\n",
       "       [178, 130, 198, 194, 174, 196],\n",
       "       [  7,   8,   9,  10,  11,  12]])"
      ]
     },
     "execution_count": 81,
     "metadata": {},
     "output_type": "execute_result"
    }
   ],
   "source": [
    "np.append(X, [[7,8,9,10,11,12]], axis=0)"
   ]
  },
  {
   "cell_type": "code",
   "execution_count": 83,
   "metadata": {},
   "outputs": [
    {
     "data": {
      "text/plain": [
       "array([[101, 193, 146, 134, 132, 100,   7],\n",
       "       [132, 143, 184, 176, 139, 104,   8],\n",
       "       [158, 102, 152, 115, 172, 156,   9],\n",
       "       [124, 194, 195, 181, 130, 163,  10],\n",
       "       [114, 182, 105, 147, 150, 179,  11],\n",
       "       [178, 130, 198, 194, 174, 196,  12]])"
      ]
     },
     "execution_count": 83,
     "metadata": {},
     "output_type": "execute_result"
    }
   ],
   "source": [
    "np.append(X,[[7],[8],[9],[10],[11],[12]], axis=1)"
   ]
  },
  {
   "cell_type": "code",
   "execution_count": 84,
   "metadata": {},
   "outputs": [
    {
     "data": {
      "text/plain": [
       "array([101, 193,   3,   4, 146, 134, 132, 100, 132, 143, 184, 176, 139,\n",
       "       104, 158, 102, 152, 115, 172, 156, 124, 194, 195, 181, 130, 163,\n",
       "       114, 182, 105, 147, 150, 179, 178, 130, 198, 194, 174, 196])"
      ]
     },
     "execution_count": 84,
     "metadata": {},
     "output_type": "execute_result"
    }
   ],
   "source": [
    "np.insert(X,2,[3,4])"
   ]
  },
  {
   "cell_type": "code",
   "execution_count": 88,
   "metadata": {},
   "outputs": [
    {
     "data": {
      "text/plain": [
       "array([[101, 193, 146, 134, 132, 100],\n",
       "       [  4,   5,   6,   7,   8,   9],\n",
       "       [132, 143, 184, 176, 139, 104],\n",
       "       [158, 102, 152, 115, 172, 156],\n",
       "       [124, 194, 195, 181, 130, 163],\n",
       "       [114, 182, 105, 147, 150, 179],\n",
       "       [178, 130, 198, 194, 174, 196]])"
      ]
     },
     "execution_count": 88,
     "metadata": {},
     "output_type": "execute_result"
    }
   ],
   "source": [
    "np.insert(X,1,[4,5,6,7,8,9], axis=0) #Must be of equal length row"
   ]
  },
  {
   "cell_type": "code",
   "execution_count": 90,
   "metadata": {},
   "outputs": [
    {
     "data": {
      "text/plain": [
       "array([[101,   5, 193, 146, 134, 132, 100],\n",
       "       [132,   5, 143, 184, 176, 139, 104],\n",
       "       [158,   5, 102, 152, 115, 172, 156],\n",
       "       [124,   5, 194, 195, 181, 130, 163],\n",
       "       [114,   5, 182, 105, 147, 150, 179],\n",
       "       [178,   5, 130, 198, 194, 174, 196]])"
      ]
     },
     "execution_count": 90,
     "metadata": {},
     "output_type": "execute_result"
    }
   ],
   "source": [
    "np.insert(X,1,5, axis=1) # Inserts 5s into the 2nd column"
   ]
  },
  {
   "cell_type": "code",
   "execution_count": 101,
   "metadata": {},
   "outputs": [
    {
     "data": {
      "text/plain": [
       "array([[101, 193, 146, 134, 132, 100],\n",
       "       [132, 143, 184, 176, 139, 104],\n",
       "       [158, 102, 152, 115, 172, 156],\n",
       "       [124, 194, 195, 181, 130, 163],\n",
       "       [114, 182, 105, 147, 150, 179],\n",
       "       [178, 130, 198, 194, 174, 196],\n",
       "       [  0,   1,   2,   3,   4,   5],\n",
       "       [  6,   7,   8,   9,  10,  11]])"
      ]
     },
     "execution_count": 101,
     "metadata": {},
     "output_type": "execute_result"
    }
   ],
   "source": [
    "Y = np.arange(12).reshape(2,6)\n",
    "np.vstack((X,Y))"
   ]
  },
  {
   "cell_type": "code",
   "execution_count": 102,
   "metadata": {},
   "outputs": [
    {
     "data": {
      "text/plain": [
       "array([[  0,   1, 101, 193, 146, 134, 132, 100],\n",
       "       [  2,   3, 132, 143, 184, 176, 139, 104],\n",
       "       [  4,   5, 158, 102, 152, 115, 172, 156],\n",
       "       [  6,   7, 124, 194, 195, 181, 130, 163],\n",
       "       [  8,   9, 114, 182, 105, 147, 150, 179],\n",
       "       [ 10,  11, 178, 130, 198, 194, 174, 196]])"
      ]
     },
     "execution_count": 102,
     "metadata": {},
     "output_type": "execute_result"
    }
   ],
   "source": [
    "np.hstack((Y.reshape(6,2),X))"
   ]
  },
  {
   "cell_type": "code",
   "execution_count": 107,
   "metadata": {},
   "outputs": [
    {
     "name": "stdout",
     "output_type": "stream",
     "text": [
      "[[195]\n",
      " [105]\n",
      " [198]]\n",
      "[[132 100]\n",
      " [139 104]\n",
      " [172 156]]\n",
      "[[101 193 146]\n",
      " [132 143 184]\n",
      " [158 102 152]\n",
      " [124 194 195]\n",
      " [114 182 105]\n",
      " [178 130 198]]\n"
     ]
    }
   ],
   "source": [
    "print(X[3:6,2:3]) # Slices of arrays. \n",
    "print(X[:3,4:])\n",
    "print(X[:,:3])"
   ]
  },
  {
   "cell_type": "code",
   "execution_count": 126,
   "metadata": {},
   "outputs": [
    {
     "name": "stdout",
     "output_type": "stream",
     "text": [
      "[[189 176 114 122 163 176]\n",
      " [190 122 143 141 195 132]\n",
      " [174 147 157 161 121 107]\n",
      " [119 132 186 195 185 149]\n",
      " [168 138 139 139 181 156]\n",
      " [123 130 169 195 107 149]]\n",
      "[[143 141 195]\n",
      " [157 161 121]\n",
      " [186 195   0]]\n",
      "[[189 176 114 122 163 176]\n",
      " [190 122 143 141 195 132]\n",
      " [174 147 157 161 121 107]\n",
      " [119 132 186 195   0 149]\n",
      " [168 138 139 139 181 156]\n",
      " [123 130 169 195 107 149]]\n"
     ]
    }
   ],
   "source": [
    "X = np.random.randint(100,200,size=(6,6))\n",
    "print(X)\n",
    "Z = X[1:4,2:5]\n",
    "Z[2,2] = 0\n",
    "print(Z)\n",
    "print(X)"
   ]
  },
  {
   "cell_type": "code",
   "execution_count": 127,
   "metadata": {},
   "outputs": [
    {
     "name": "stdout",
     "output_type": "stream",
     "text": [
      "[[0 0 0]\n",
      " [0 0 0]\n",
      " [0 0 0]]\n",
      "[[189 176 114 122 163 176]\n",
      " [190 122 143 141 195 132]\n",
      " [174 147 157 161 121 107]\n",
      " [119 132 186 195   0 149]\n",
      " [168 138 139 139 181 156]\n",
      " [123 130 169 195 107 149]]\n"
     ]
    }
   ],
   "source": [
    "Z = X[1:4,2:5].copy()\n",
    "Z[:,:]=0\n",
    "print(Z)\n",
    "print(X)"
   ]
  },
  {
   "cell_type": "code",
   "execution_count": 132,
   "metadata": {},
   "outputs": [
    {
     "name": "stdout",
     "output_type": "stream",
     "text": [
      "[189 122 157 195 181 149]\n",
      "[176 143 161   0 156]\n",
      "[122 195 107]\n",
      "[174 132 139 195]\n"
     ]
    }
   ],
   "source": [
    "print(np.diag(X))       # Diagonal starting from corner (0,0)\n",
    "print(np.diag(X, k=1))  # Diagonal starting from 2nd column (0,1)\n",
    "print(np.diag(X, k=3))  # Diagonal starting from 4th column (0,3)\n",
    "print(np.diag(X, k=-2)) # Diagonal starting from 3rd row (2,0)"
   ]
  },
  {
   "cell_type": "code",
   "execution_count": 136,
   "metadata": {},
   "outputs": [
    {
     "name": "stdout",
     "output_type": "stream",
     "text": [
      "[[11 14 10 14 18 16]\n",
      " [14 17 15 11 18 17]\n",
      " [15 19 16 12 10 12]\n",
      " [11 18 17 18 15 10]\n",
      " [11 11 10 10 13 17]\n",
      " [19 18 19 11 16 10]]\n",
      "[10 11 12 13 14 15 16 17 18 19]\n"
     ]
    }
   ],
   "source": [
    "X = np.random.randint(10,20,size=(6,6))\n",
    "print(X)\n",
    "print(np.unique(X)) # Unique values within X"
   ]
  },
  {
   "cell_type": "code",
   "execution_count": 137,
   "metadata": {},
   "outputs": [
    {
     "name": "stdout",
     "output_type": "stream",
     "text": [
      "[16 15 15 16 15 16]\n",
      "[[11 14 10 14 18 -1]\n",
      " [14 17 -1 11 18 17]\n",
      " [-1 19 -1 12 10 12]\n",
      " [11 18 17 18 -1 10]\n",
      " [11 11 10 10 13 17]\n",
      " [19 18 19 11 -1 10]]\n"
     ]
    }
   ],
   "source": [
    "print(X[(X>14) & (X<17)]) # Boolean values within X\n",
    "X[(X>14) & (X<17)] = -1   # Assigns boolean values within X\n",
    "print(X)"
   ]
  },
  {
   "cell_type": "code",
   "execution_count": 143,
   "metadata": {},
   "outputs": [
    {
     "name": "stdout",
     "output_type": "stream",
     "text": [
      "[[0 1 1 2 3]\n",
      " [1 4 8 8 9]\n",
      " [1 2 4 5 8]\n",
      " [2 2 4 6 7]\n",
      " [2 3 6 6 9]]\n",
      "[[2 0 1 3 1]\n",
      " [9 1 8 4 8]\n",
      " [1 2 5 4 8]\n",
      " [2 6 7 2 4]\n",
      " [2 6 9 6 3]]\n",
      "[[0 1 1 2 3]\n",
      " [1 4 8 8 9]\n",
      " [1 2 4 5 8]\n",
      " [2 2 4 6 7]\n",
      " [2 3 6 6 9]]\n"
     ]
    }
   ],
   "source": [
    "X = np.random.randint(10,size=(5,5))\n",
    "print(np.sort(X))\n",
    "print(X)\n",
    "X.sort()\n",
    "print(X)"
   ]
  },
  {
   "cell_type": "code",
   "execution_count": 145,
   "metadata": {},
   "outputs": [
    {
     "name": "stdout",
     "output_type": "stream",
     "text": [
      "[[0 5 1 3 9]\n",
      " [2 5 5 6 8]\n",
      " [6 1 0 3 0]\n",
      " [7 4 1 3 0]\n",
      " [5 0 8 8 9]]\n",
      "[[0 0 0 3 0]\n",
      " [2 1 1 3 0]\n",
      " [5 4 1 3 8]\n",
      " [6 5 5 6 9]\n",
      " [7 5 8 8 9]]\n",
      "[[0 1 3 5 9]\n",
      " [2 5 5 6 8]\n",
      " [0 0 1 3 6]\n",
      " [0 1 3 4 7]\n",
      " [0 5 8 8 9]]\n"
     ]
    }
   ],
   "source": [
    "X = np.random.randint(10,size=(5,5))\n",
    "print(X)\n",
    "print(np.sort(X,axis=0)) # Temporary sort by column or X.sort(axis=0) for permenant\n",
    "print(np.sort(X,axis=1)) # Temporary sort by row or X.sort(axis=1) for permenant"
   ]
  },
  {
   "cell_type": "code",
   "execution_count": 154,
   "metadata": {},
   "outputs": [
    {
     "name": "stdout",
     "output_type": "stream",
     "text": [
      "[[1 0]\n",
      " [4 6]]\n",
      "[[3 7]\n",
      " [1 3]]\n",
      "[[4 7]\n",
      " [5 9]]\n",
      "[[4 7]\n",
      " [5 9]]\n"
     ]
    }
   ],
   "source": [
    "X = np.random.randint(10,size=(2,2))\n",
    "Y = np.random.randint(10,size=(2,2))\n",
    "print(X)\n",
    "print(Y)\n",
    "print(X+Y)\n",
    "print(np.add(X,Y))"
   ]
  },
  {
   "cell_type": "code",
   "execution_count": 155,
   "metadata": {},
   "outputs": [
    {
     "name": "stdout",
     "output_type": "stream",
     "text": [
      "[[-2 -7]\n",
      " [ 3  3]]\n",
      "[[-2 -7]\n",
      " [ 3  3]]\n"
     ]
    }
   ],
   "source": [
    "print(X-Y)\n",
    "print(np.subtract(X,Y))"
   ]
  },
  {
   "cell_type": "code",
   "execution_count": 156,
   "metadata": {},
   "outputs": [
    {
     "name": "stdout",
     "output_type": "stream",
     "text": [
      "[[ 3  0]\n",
      " [ 4 18]]\n",
      "[[ 3  0]\n",
      " [ 4 18]]\n"
     ]
    }
   ],
   "source": [
    "print(X*Y)\n",
    "print(np.multiply(X,Y))"
   ]
  },
  {
   "cell_type": "code",
   "execution_count": 157,
   "metadata": {},
   "outputs": [
    {
     "name": "stdout",
     "output_type": "stream",
     "text": [
      "[[3 7]\n",
      " [1 3]]\n",
      "[[0.33333333 0.        ]\n",
      " [4.         2.        ]]\n",
      "[[0.33333333 0.        ]\n",
      " [4.         2.        ]]\n"
     ]
    }
   ],
   "source": [
    "Y[Y==0]=-1\n",
    "print(Y)\n",
    "print(X/Y)\n",
    "print(np.divide(X,Y))"
   ]
  },
  {
   "cell_type": "code",
   "execution_count": 162,
   "metadata": {},
   "outputs": [
    {
     "name": "stdout",
     "output_type": "stream",
     "text": [
      "[[1 0]\n",
      " [4 6]]\n",
      "[[  2.71828183   1.        ]\n",
      " [ 54.59815003 403.42879349]]\n",
      "[[1.         0.        ]\n",
      " [2.         2.44948974]]\n",
      "[[  1   0]\n",
      " [ 64 216]]\n"
     ]
    }
   ],
   "source": [
    "print(X)\n",
    "print(np.exp(X))     # e to the X\n",
    "print(np.sqrt(X))    # square root of X\n",
    "print(np.power(X,3)) # X raised to the power of 3"
   ]
  },
  {
   "cell_type": "code",
   "execution_count": 165,
   "metadata": {},
   "outputs": [
    {
     "name": "stdout",
     "output_type": "stream",
     "text": [
      "73.44444444444444\n",
      "[72.83333333 60.5        80.16666667 74.         72.33333333 80.83333333]\n",
      "[72.83333333 76.5        76.83333333 72.16666667 76.33333333 66.        ]\n"
     ]
    }
   ],
   "source": [
    "X = np.random.randint(50,100,size=(6,6))\n",
    "print(X.mean())        # Average\n",
    "print(X.mean(axis=0))  # Average for each column\n",
    "print(X.mean(axis=1))  # Average for each row"
   ]
  },
  {
   "cell_type": "code",
   "execution_count": 166,
   "metadata": {},
   "outputs": [
    {
     "name": "stdout",
     "output_type": "stream",
     "text": [
      "2644\n",
      "[437 363 481 444 434 485]\n",
      "[437 459 461 433 458 396]\n"
     ]
    }
   ],
   "source": [
    "print(X.sum())\n",
    "print(X.sum(axis=0))\n",
    "print(X.sum(axis=1))"
   ]
  },
  {
   "cell_type": "code",
   "execution_count": 167,
   "metadata": {},
   "outputs": [
    {
     "name": "stdout",
     "output_type": "stream",
     "text": [
      "12.787677324597484\n",
      "[13.47116262  5.79511288 12.7464592  11.46007563 12.35133821  7.1043805 ]\n",
      "[11.66785708 14.56880228 13.04372987 10.76129897 14.42990721  7.21110255]\n"
     ]
    }
   ],
   "source": [
    "print(X.std())\n",
    "print(X.std(axis=0))\n",
    "print(X.std(axis=1))"
   ]
  },
  {
   "cell_type": "code",
   "execution_count": 170,
   "metadata": {},
   "outputs": [
    {
     "name": "stdout",
     "output_type": "stream",
     "text": [
      "74.0\n",
      "[71.  60.  79.5 72.  74.5 79. ]\n",
      "[75.  78.  80.5 76.  74.  67. ]\n"
     ]
    }
   ],
   "source": [
    "print(np.median(X))\n",
    "print(np.median(X,axis=0))\n",
    "print(np.median(X,axis=1))"
   ]
  },
  {
   "cell_type": "code",
   "execution_count": 171,
   "metadata": {},
   "outputs": [
    {
     "name": "stdout",
     "output_type": "stream",
     "text": [
      "96\n",
      "[92 69 96 92 87 92]\n",
      "[87 93 92 87 96 75]\n"
     ]
    }
   ],
   "source": [
    "print(X.max())\n",
    "print(X.max(axis=0))\n",
    "print(X.max(axis=1))"
   ]
  },
  {
   "cell_type": "code",
   "execution_count": 173,
   "metadata": {},
   "outputs": [
    {
     "name": "stdout",
     "output_type": "stream",
     "text": [
      "52\n",
      "[52 53 57 57 53 72]\n",
      "[52 53 56 56 53 57]\n"
     ]
    }
   ],
   "source": [
    "print(X.min())\n",
    "print(X.min(axis=0))\n",
    "print(X.min(axis=1))"
   ]
  }
 ],
 "metadata": {
  "kernelspec": {
   "display_name": "Python 3",
   "language": "python",
   "name": "python3"
  },
  "language_info": {
   "codemirror_mode": {
    "name": "ipython",
    "version": 3
   },
   "file_extension": ".py",
   "mimetype": "text/x-python",
   "name": "python",
   "nbconvert_exporter": "python",
   "pygments_lexer": "ipython3",
   "version": "3.7.1"
  }
 },
 "nbformat": 4,
 "nbformat_minor": 2
}

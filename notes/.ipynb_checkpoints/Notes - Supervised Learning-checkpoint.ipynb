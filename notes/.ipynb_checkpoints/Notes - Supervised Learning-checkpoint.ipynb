{
 "cells": [
  {
   "cell_type": "markdown",
   "metadata": {},
   "source": [
    "# Supervised Learning"
   ]
  },
  {
   "cell_type": "markdown",
   "metadata": {},
   "source": [
    "## Linear Regression\n",
    "LinearRegression fits a linear model with coefficients $w = (w1,...,w_p)$ to minimize the residual sum of squares between the observed responses in the dataset, and the responses predicted by the linear approximation.\n",
    "\n",
    "### Linear Regression Example\n",
    "In this example, we'll be working with data on the average life expectancy at birth and the average BMI for males across the world. It includes three columns, containing the following data:\n",
    "\n",
    "* Country – The country the person was born in.\n",
    "* Life expectancy – The average life expectancy at birth for a person in that country.\n",
    "* BMI – The mean BMI of males in that country."
   ]
  },
  {
   "cell_type": "code",
   "execution_count": 1,
   "metadata": {},
   "outputs": [],
   "source": [
    "import pandas as pd\n",
    "from sklearn.linear_model import LinearRegression"
   ]
  },
  {
   "cell_type": "code",
   "execution_count": 2,
   "metadata": {},
   "outputs": [
    {
     "data": {
      "text/html": [
       "<div>\n",
       "<style scoped>\n",
       "    .dataframe tbody tr th:only-of-type {\n",
       "        vertical-align: middle;\n",
       "    }\n",
       "\n",
       "    .dataframe tbody tr th {\n",
       "        vertical-align: top;\n",
       "    }\n",
       "\n",
       "    .dataframe thead th {\n",
       "        text-align: right;\n",
       "    }\n",
       "</style>\n",
       "<table border=\"1\" class=\"dataframe\">\n",
       "  <thead>\n",
       "    <tr style=\"text-align: right;\">\n",
       "      <th></th>\n",
       "      <th>Country</th>\n",
       "      <th>Life expectancy</th>\n",
       "      <th>BMI</th>\n",
       "    </tr>\n",
       "  </thead>\n",
       "  <tbody>\n",
       "    <tr>\n",
       "      <th>0</th>\n",
       "      <td>Afghanistan</td>\n",
       "      <td>52.8</td>\n",
       "      <td>20.62058</td>\n",
       "    </tr>\n",
       "    <tr>\n",
       "      <th>1</th>\n",
       "      <td>Albania</td>\n",
       "      <td>76.8</td>\n",
       "      <td>26.44657</td>\n",
       "    </tr>\n",
       "    <tr>\n",
       "      <th>2</th>\n",
       "      <td>Algeria</td>\n",
       "      <td>75.5</td>\n",
       "      <td>24.59620</td>\n",
       "    </tr>\n",
       "    <tr>\n",
       "      <th>3</th>\n",
       "      <td>Andorra</td>\n",
       "      <td>84.6</td>\n",
       "      <td>27.63048</td>\n",
       "    </tr>\n",
       "    <tr>\n",
       "      <th>4</th>\n",
       "      <td>Angola</td>\n",
       "      <td>56.7</td>\n",
       "      <td>22.25083</td>\n",
       "    </tr>\n",
       "  </tbody>\n",
       "</table>\n",
       "</div>"
      ],
      "text/plain": [
       "       Country  Life expectancy       BMI\n",
       "0  Afghanistan             52.8  20.62058\n",
       "1      Albania             76.8  26.44657\n",
       "2      Algeria             75.5  24.59620\n",
       "3      Andorra             84.6  27.63048\n",
       "4       Angola             56.7  22.25083"
      ]
     },
     "execution_count": 2,
     "metadata": {},
     "output_type": "execute_result"
    }
   ],
   "source": [
    "# Import the data using Pandas DataFrame\n",
    "bmi_life_data = pd.read_csv('CSV/bmi_and_life_expectancy.csv')\n",
    "bmi_life_data.head()"
   ]
  },
  {
   "cell_type": "code",
   "execution_count": 3,
   "metadata": {},
   "outputs": [
    {
     "name": "stdout",
     "output_type": "stream",
     "text": [
      "Your life expectancy is 70.4668570534752.\n"
     ]
    }
   ],
   "source": [
    "# Assign the dataframe to variables\n",
    "bmi_data = bmi_life_data[['BMI']]\n",
    "life_data = bmi_life_data[['Life expectancy']]\n",
    "\n",
    "# Create a model and fit the data\n",
    "bmi_life_model = LinearRegression()\n",
    "bmi_life_model.fit(bmi_data, life_data)\n",
    "\n",
    "# Predictions using BMI values.\n",
    "life_exp = bmi_life_model.predict([[25.11]]) # Depreciated to simply (25.11)\n",
    "print('Your life expectancy is {}.'.format(life_exp[0][0]))"
   ]
  },
  {
   "cell_type": "code",
   "execution_count": 4,
   "metadata": {},
   "outputs": [
    {
     "data": {
      "text/plain": [
       "<Figure size 640x480 with 1 Axes>"
      ]
     },
     "metadata": {},
     "output_type": "display_data"
    }
   ],
   "source": [
    "import matplotlib.pyplot as plt\n",
    "\n",
    "plt.figure()\n",
    "plt.scatter(bmi_data, life_data)\n",
    "plt.plot(bmi_data, bmi_life_model.predict(bmi_data))\n",
    "plt.show()"
   ]
  },
  {
   "cell_type": "markdown",
   "metadata": {},
   "source": [
    "Above, we can predict life expectancy using BMI. Here, BMI is the predictor, also known as an independent variable. A predictor is a variable used in order to make predictions about other variables, while the values you are trying to predict are known as dependent variables. In this case, life expectancy was the dependent variable."
   ]
  },
  {
   "cell_type": "markdown",
   "metadata": {},
   "source": [
    "### Multiple Linear Regression\n",
    "Now, let’s say we get new data on each person’s heart rate as well. Can we create a prediction of life expectancy using both BMI and heart rate?\n",
    "\n",
    "Absolutely! If the outcome we want to predict depends on more than one variable, we can make a more complicated model that takes this into account. As long as they're relevant to the situation, using more independent/predictor variables can help get a better prediction.\n",
    "\n",
    "When there's just one predictor, the linear regression model is a line, but as you add more predictor variables, you're adding more dimensions to the picture.\n",
    "\n",
    "> $y = mx + b$\n",
    "\n",
    "Adding a predictor variable to go to two predictor variables means that the predicting equation is:\n",
    "\n",
    "> $y = m_1x_1 + m_2x_2 + b$\n",
    "\n",
    "To represent this graphically, we use a three-dimensional plot, with the linear regression model represented as a plane.\n",
    "\n",
    "We can use more than two predictor variables - in fact, we should use as many as are useful!  As we make a model with more predictor variables, it becomes harder to visualise, but luckily, everything else about linear regression stays the same. We can still fit models and make predictions in exactly the same way."
   ]
  },
  {
   "cell_type": "code",
   "execution_count": 5,
   "metadata": {},
   "outputs": [
    {
     "name": "stdout",
     "output_type": "stream",
     "text": [
      "The value of the sample houe is 23.68K.\n"
     ]
    }
   ],
   "source": [
    "from sklearn.linear_model import LinearRegression\n",
    "from sklearn.datasets import load_boston\n",
    "\n",
    "# Load the data from the boston house-prices dataset \n",
    "boston_data = load_boston()\n",
    "x = boston_data['data']\n",
    "y = boston_data['target']\n",
    "\n",
    "# Make and fit the linear regression model\n",
    "model = LinearRegression()\n",
    "model.fit(x, y)\n",
    "\n",
    "# Make a prediction using the model\n",
    "sample_house = [[2.29690000e-01, 0.00000000e+00, 1.05900000e+01, 0.00000000e+00, 4.89000000e-01,\n",
    "                6.32600000e+00, 5.25000000e+01, 4.35490000e+00, 4.00000000e+00, 2.77000000e+02,\n",
    "                1.86000000e+01, 3.94870000e+02, 1.09700000e+01]]\n",
    "prediction = model.predict(sample_house)\n",
    "\n",
    "print('The value of the sample houe is {:.2f}K.'.format(prediction[0]))"
   ]
  },
  {
   "cell_type": "markdown",
   "metadata": {},
   "source": [
    "### Polynomial Regression\n",
    "Polynomial regression is a form of regression analysis in which the relationship between the independent/predictor variable $x$ and the dependent variable $y$ is modelled as an nth degree polynomial of $x$. Sklearn's PolynomialFeatures class extends the predictor feature column into multiple columns depending on the degree parameter.  Afterwards, we use LinearRegression to fit our data and make predictions."
   ]
  },
  {
   "cell_type": "code",
   "execution_count": 6,
   "metadata": {},
   "outputs": [
    {
     "name": "stdout",
     "output_type": "stream",
     "text": [
      "     Var_X    Var_Y\n",
      "0 -0.33532  6.66854\n",
      "1  0.02160  3.86398\n",
      "2 -1.19438  5.16161\n",
      "3 -0.65046  8.43823\n",
      "4 -0.28001  5.57201\n"
     ]
    }
   ],
   "source": [
    "from sklearn.preprocessing import PolynomialFeatures\n",
    "import numpy as np\n",
    "\n",
    "# Reading the data\n",
    "train_data = pd.read_csv('CSV/poly_reg.csv')\n",
    "print(train_data.head(5))\n",
    "\n",
    "# Spliting the data into X and y.\n",
    "X = train_data['Var_X'].values.reshape(-1,1)\n",
    "y = train_data['Var_Y'].values"
   ]
  },
  {
   "cell_type": "code",
   "execution_count": 7,
   "metadata": {},
   "outputs": [
    {
     "data": {
      "image/png": "[encoded data removed]",
      "text/plain": [
       "<Figure size 432x288 with 1 Axes>"
      ]
     },
     "metadata": {
      "needs_background": "light"
     },
     "output_type": "display_data"
    }
   ],
   "source": [
    "# Ploting the data to see it is a polynomial\n",
    "plt.scatter(X, y)\n",
    "plt.show()"
   ]
  },
  {
   "cell_type": "code",
   "execution_count": 8,
   "metadata": {},
   "outputs": [
    {
     "name": "stdout",
     "output_type": "stream",
     "text": [
      "Original shape of X: (20, 1)\n",
      "Polynomial Features shape of X: (20, 5)\n"
     ]
    }
   ],
   "source": [
    "# Initalizng and fitting the model\n",
    "poly_feat = PolynomialFeatures(degree = 4)\n",
    "X_poly = poly_feat.fit_transform(X)\n",
    "model = LinearRegression().fit(X_poly, y)\n",
    "\n",
    "# Note that X is split into Degree + 1 columns\n",
    "print('Original shape of X: {}'.format(X.shape))\n",
    "print('Polynomial Features shape of X: {}'.format(X_poly.shape)) #Note the shape o"
   ]
  },
  {
   "cell_type": "code",
   "execution_count": 9,
   "metadata": {},
   "outputs": [
    {
     "data": {
      "image/png": "[encoded data removed]",
      "text/plain": [
       "<Figure size 432x288 with 1 Axes>"
      ]
     },
     "metadata": {
      "needs_background": "light"
     },
     "output_type": "display_data"
    }
   ],
   "source": [
    "# Create new x values from min to max to plot\n",
    "x_plot = np.linspace(X.min(), X.max(), 50).reshape(-1,1)\n",
    "\n",
    "# Predict y from the new x_values\n",
    "y_plot = model.predict(poly_feat.fit_transform(x_plot))\n",
    "\n",
    "# Plotting the polynomial regression model\n",
    "plt.scatter(X,y)\n",
    "plt.plot(x_plot, y_plot, color='red')\n",
    "plt.show()"
   ]
  },
  {
   "cell_type": "markdown",
   "metadata": {},
   "source": [
    "### [Regularization](https://towardsdatascience.com/regularization-in-machine-learning-76441ddcf99a)\n",
    "Regularization is the process of punishing more complex models to avoid overfitting the data.  L1 regularization adds the absolute value of coefficient of the model.  L2 regularization adds the squares of the coefficient of the model.  The λ Parameter controls the degree to punish the model for complexity.\n",
    "\n",
    "<img src='IMG/regularization.png'>\n",
    "\n",
    "In the example below, we use sklearn's Lasso class to fit a linear regression model to the data while using L1 regularization to control for model complexity."
   ]
  },
  {
   "cell_type": "code",
   "execution_count": 10,
   "metadata": {},
   "outputs": [
    {
     "data": {
      "text/html": [
       "<div>\n",
       "<style scoped>\n",
       "    .dataframe tbody tr th:only-of-type {\n",
       "        vertical-align: middle;\n",
       "    }\n",
       "\n",
       "    .dataframe tbody tr th {\n",
       "        vertical-align: top;\n",
       "    }\n",
       "\n",
       "    .dataframe thead th {\n",
       "        text-align: right;\n",
       "    }\n",
       "</style>\n",
       "<table border=\"1\" class=\"dataframe\">\n",
       "  <thead>\n",
       "    <tr style=\"text-align: right;\">\n",
       "      <th></th>\n",
       "      <th>0</th>\n",
       "      <th>1</th>\n",
       "      <th>2</th>\n",
       "      <th>3</th>\n",
       "      <th>4</th>\n",
       "      <th>5</th>\n",
       "      <th>6</th>\n",
       "    </tr>\n",
       "  </thead>\n",
       "  <tbody>\n",
       "    <tr>\n",
       "      <th>0</th>\n",
       "      <td>1.25664</td>\n",
       "      <td>2.04978</td>\n",
       "      <td>-6.23640</td>\n",
       "      <td>4.71926</td>\n",
       "      <td>-4.26931</td>\n",
       "      <td>0.20590</td>\n",
       "      <td>12.31798</td>\n",
       "    </tr>\n",
       "    <tr>\n",
       "      <th>1</th>\n",
       "      <td>-3.89012</td>\n",
       "      <td>-0.37511</td>\n",
       "      <td>6.14979</td>\n",
       "      <td>4.94585</td>\n",
       "      <td>-3.57844</td>\n",
       "      <td>0.00640</td>\n",
       "      <td>23.67628</td>\n",
       "    </tr>\n",
       "    <tr>\n",
       "      <th>2</th>\n",
       "      <td>5.09784</td>\n",
       "      <td>0.98120</td>\n",
       "      <td>-0.29939</td>\n",
       "      <td>5.85805</td>\n",
       "      <td>0.28297</td>\n",
       "      <td>-0.20626</td>\n",
       "      <td>-1.53459</td>\n",
       "    </tr>\n",
       "    <tr>\n",
       "      <th>3</th>\n",
       "      <td>0.39034</td>\n",
       "      <td>-3.06861</td>\n",
       "      <td>-5.63488</td>\n",
       "      <td>6.43941</td>\n",
       "      <td>0.39256</td>\n",
       "      <td>-0.07084</td>\n",
       "      <td>-24.68670</td>\n",
       "    </tr>\n",
       "    <tr>\n",
       "      <th>4</th>\n",
       "      <td>5.84727</td>\n",
       "      <td>-0.15922</td>\n",
       "      <td>11.41246</td>\n",
       "      <td>7.52165</td>\n",
       "      <td>1.69886</td>\n",
       "      <td>0.29022</td>\n",
       "      <td>17.54122</td>\n",
       "    </tr>\n",
       "  </tbody>\n",
       "</table>\n",
       "</div>"
      ],
      "text/plain": [
       "         0        1         2        3        4        5         6\n",
       "0  1.25664  2.04978  -6.23640  4.71926 -4.26931  0.20590  12.31798\n",
       "1 -3.89012 -0.37511   6.14979  4.94585 -3.57844  0.00640  23.67628\n",
       "2  5.09784  0.98120  -0.29939  5.85805  0.28297 -0.20626  -1.53459\n",
       "3  0.39034 -3.06861  -5.63488  6.43941  0.39256 -0.07084 -24.68670\n",
       "4  5.84727 -0.15922  11.41246  7.52165  1.69886  0.29022  17.54122"
      ]
     },
     "execution_count": 10,
     "metadata": {},
     "output_type": "execute_result"
    }
   ],
   "source": [
    "# Import the data\n",
    "train_data = pd.read_csv('CSV/regularization.csv', header=None)\n",
    "train_data.head()"
   ]
  },
  {
   "cell_type": "code",
   "execution_count": 11,
   "metadata": {},
   "outputs": [
    {
     "name": "stdout",
     "output_type": "stream",
     "text": [
      "Shape of X: (100, 6), of y: (100,)\n"
     ]
    }
   ],
   "source": [
    "# Split the data to predictor and outcome variables\n",
    "X = train_data.iloc[:,:-1]\n",
    "y = train_data.iloc[:,-1]\n",
    "print('Shape of X: {}, of y: {}'.format(X.shape, y.shape))"
   ]
  },
  {
   "cell_type": "code",
   "execution_count": 12,
   "metadata": {},
   "outputs": [
    {
     "name": "stdout",
     "output_type": "stream",
     "text": [
      "[ 0.          2.35793224  2.00441646 -0.05511954 -3.92808318  0.        ]\n"
     ]
    }
   ],
   "source": [
    "# Create and fit the linear regression model with lasso regularization.\n",
    "from sklearn.linear_model import Lasso\n",
    "lasso_reg = Lasso()\n",
    "lasso_reg.fit(X, y)\n",
    "\n",
    "# Retrieve and print out the coefficients from the regression model.\n",
    "reg_coef = lasso_reg.coef_\n",
    "print(reg_coef)"
   ]
  },
  {
   "cell_type": "markdown",
   "metadata": {},
   "source": [
    "### Feature Scaling\n",
    "Feature scaling is a way of transforming your data into a common range of values. There are two common scalings:\n",
    "\n",
    "1. Standardizing\n",
    "2. Normalizing\n",
    "\n",
    "#### Standardizing\n",
    "Standardizing is completed by taking each value of within a column, subtracting the mean of the column, and then dividing by the standard deviation of the column. Example:\n",
    "\n",
    "    df[\"height_standard\"] = (df[\"height\"] - df[\"height\"].mean()) / df[\"height\"].std()\n",
    "    \n",
    "This will create the new \"standardized\" column where each value is a comparison to the mean of the column. The new \"standardized\" value can be interpreted as the number of standard deviations the original height was from the mean. This type of feature scaling is by far the most common of all techniques.\n",
    "\n",
    "#### Normalizing\n",
    "A second type of feature scaling that is popular is known as normalizing. With normalizing, data are scaled between 0 and 1. Example:\n",
    "\n",
    "    df[\"height_normal\"] = (df[\"height\"] - df[\"height\"].min()) / (df[\"height\"].max() - df['height'].min())\n",
    "\n",
    "#### When Should I Use Feature Scaling?\n",
    "\n",
    "1. When your algorithm uses a distance-based metric to predict.\n",
    "    * One common supervised learning technique that is based on the distance points are from one another called Support Vector Machines (or SVMs). \n",
    "    * Another technique that involves distance based methods to determine a prediction is k-nearest neighbors (or k-nn). \n",
    "    * With either of these techniques, choosing not to scale the data may lead to drastically different (and likely misleading) ending predictions.\n",
    "2. When you incorporate regularization.\n",
    "    * The penalty on particular coefficients in regularized linear regression techniques depends largely on the scale associated with the features. When one feature is on a small range, say from 0 to 10, and another is on a large range, say from 0 to 1 000 000, applying regularization is going to unfairly punish the feature with the small range.\n",
    "    \n",
    "Below is the same regularization problem as before but with features scaled:"
   ]
  },
  {
   "cell_type": "code",
   "execution_count": 13,
   "metadata": {},
   "outputs": [
    {
     "name": "stdout",
     "output_type": "stream",
     "text": [
      "Lasso without scaling: [ 0.    2.36  2.   -0.06 -3.93  0.  ]\n",
      "Lasso with scaling: [  0.     3.91   9.03  -0.   -11.78   0.45]\n"
     ]
    }
   ],
   "source": [
    "from sklearn.preprocessing import StandardScaler\n",
    "\n",
    "# Assign the data to predictor and outcome variables\n",
    "train_data = pd.read_csv('CSV/regularization.csv', header=None)\n",
    "X = train_data.iloc[:,:-1]\n",
    "y = train_data.iloc[:,-1]\n",
    "\n",
    "# Create the standardization scaling and scale the data.\n",
    "scaler = StandardScaler()\n",
    "X_scaled = scaler.fit_transform(X)\n",
    "\n",
    "# Create and fit the linear regression model with lasso regularization.\n",
    "lasso_reg2 = Lasso()\n",
    "lasso_reg2.fit(X_scaled, y)\n",
    "\n",
    "# Retrieve and print out the coefficients from the regression model.\n",
    "reg_coef2 = lasso_reg2.coef_\n",
    "np.set_printoptions(precision = 2)\n",
    "print('Lasso without scaling: {}'.format(reg_coef))\n",
    "print('Lasso with scaling: {}'.format(reg_coef2))"
   ]
  },
  {
   "cell_type": "markdown",
   "metadata": {},
   "source": [
    "### Recap\n",
    "\n",
    "* **Gradient descent** as a method to optimize linear models.\n",
    "* **Multiple Linear Regression** as a technique for when comparing more than two variables.\n",
    "* **Polynomial Regression** for relationships between variables that aren't linear.\n",
    "* **Regularization** as a technique to assure that models will not only fit to the data available, but also extend to new situations."
   ]
  },
  {
   "cell_type": "markdown",
   "metadata": {},
   "source": [
    "## Perceptron Algorithm\n",
    "\n",
    "The perceptron algorithm is an algorithm for classifying data.  It is the building block of neural networks.\n",
    "\n",
    "### Linear Boundaries\n",
    "> $w_1x_1 + w_2x_2 + b = 0$\n",
    "\n",
    "$x_1$ is one input, $x_2$ is the other input for a decision of yes or no.  It is simplified to:\n",
    "\n",
    "> $Wx + b = 0$\n",
    ">\n",
    "> $W = (w_1, w_2)$\n",
    ">\n",
    "> $x = (x_1, x_2)$\n",
    "\n",
    "The product of the two vectors $W$ and $x$ plus the bias ($b$).   Multiple dimensions for multiple input (x).  The size for $W: (1 x n)$, $x: (n x 1)$, and $b: (1 x 1)$.\n",
    "\n",
    "Perceptron Coding Example: For a point with coordinates $(p,q)$, label $y$, and prediction given by the equation $\\hat{y} = step(w_1x_1 + w_2x_2 + b)$: \n",
    "\n",
    "* If the point is correctly classified, do nothing.\n",
    "* If the point is classified positive, but it has a negative label, subtract $αp$, $αq$, and $α$ from $w_1$, $w_2$, and $b$ respectively.\n",
    "* If the point is classified negative, but it has a positive label, add $αp$, $αq$, and $α$ from $w_1$, $w_2$, and $b$ respectively.\n",
    "    "
   ]
  },
  {
   "cell_type": "code",
   "execution_count": 14,
   "metadata": {},
   "outputs": [],
   "source": [
    "# Setting the random seed, feel free to change it and see different solutions.\n",
    "np.random.seed(42)\n",
    "\n",
    "def stepFunction(t):\n",
    "    if t >= 0:\n",
    "        return 1\n",
    "    return 0\n",
    "\n",
    "def prediction(X, W, b):\n",
    "    return stepFunction((np.matmul(X,W)+b)[0])\n",
    "\n",
    "# The function should receive as inputs the data X, the labels y,\n",
    "# the weights W (as an array), and the bias b,\n",
    "# update the weights and bias W, b, according to the perceptron algorithm,\n",
    "# and return W and b.\n",
    "def perceptronStep(X, Y, W, b, learn_rate = 0.01):\n",
    "    # Fill in code\n",
    "    for x, y in zip(X,Y):\n",
    "        # Calculate the prediction\n",
    "        y_hat = prediction(x,W,b)\n",
    "        # Negative points classified postive\n",
    "        if (y - y_hat == 1):\n",
    "            W += (x.reshape(-1,1) * learn_rate)\n",
    "            b += learn_rate\n",
    "        # Positive points classified negative\n",
    "        elif (y - y_hat == -1):\n",
    "            W -= (x.reshape(-1,1) * learn_rate)\n",
    "            b -= learn_rate\n",
    "    return W, b\n",
    "    \n",
    "# This function runs the perceptron algorithm repeatedly on the dataset,\n",
    "# and returns a few of the boundary lines obtained in the iterations,\n",
    "# for plotting purposes.\n",
    "# Feel free to play with the learning rate and the num_epochs,\n",
    "# and see your results plotted below.\n",
    "def trainPerceptronAlgorithm(X, y, learn_rate = 0.01, num_epochs = 25):\n",
    "    x_min, x_max = min(X.T[0]), max(X.T[0])\n",
    "    y_min, y_max = min(X.T[1]), max(X.T[1])\n",
    "    W = np.array(np.random.rand(2,1))\n",
    "    b = np.random.rand(1)[0] + x_max\n",
    "    # These are the solution lines that get plotted below.\n",
    "    boundary_lines = []\n",
    "    for i in range(num_epochs):\n",
    "        # In each epoch, we apply the perceptron step.\n",
    "        W, b = perceptronStep(X, y, W, b, learn_rate)\n",
    "        boundary_lines.append((-W[0]/W[1], -b/W[1]))\n",
    "    return boundary_lines"
   ]
  },
  {
   "cell_type": "code",
   "execution_count": 15,
   "metadata": {},
   "outputs": [
    {
     "data": {
      "image/png": "[encoded data removed]",
      "text/plain": [
       "<Figure size 432x288 with 1 Axes>"
      ]
     },
     "metadata": {
      "needs_background": "light"
     },
     "output_type": "display_data"
    }
   ],
   "source": [
    "perceptron_data = pd.read_csv('CSV/perceptron.csv', header=None)\n",
    "\n",
    "# Scatter Plot\n",
    "X = np.array(perceptron_data.iloc[:,:-1])\n",
    "Y = np.array(perceptron_data.iloc[:,-1])\n",
    "for x, y in zip(X,Y):\n",
    "    if y == 1:\n",
    "        plt.scatter(x[0],x[1], color='red')\n",
    "    else:\n",
    "        plt.scatter(x[0],x[1], color='blue')\n",
    "        \n",
    "# Perceptron Line Plot\n",
    "train = trainPerceptronAlgorithm(X,Y)\n",
    "W = train[-1][0][0]\n",
    "b = train[-1][1][0]\n",
    "x_plot = np.linspace(X.min(),X.max(),10)\n",
    "y_plot = (W * x_plot) + b\n",
    "plt.plot(x_plot, y_plot);"
   ]
  },
  {
   "cell_type": "markdown",
   "metadata": {},
   "source": [
    "**NOTE** Plotting using Numpy Arrays"
   ]
  },
  {
   "cell_type": "code",
   "execution_count": 16,
   "metadata": {},
   "outputs": [
    {
     "data": {
      "image/png": "[encoded data removed]",
      "text/plain": [
       "<Figure size 432x288 with 1 Axes>"
      ]
     },
     "metadata": {
      "needs_background": "light"
     },
     "output_type": "display_data"
    }
   ],
   "source": [
    "perceptron_data = pd.read_csv('CSV/perceptron.csv', header=None)\n",
    "X = np.array(perceptron_data.iloc[:,:-1])\n",
    "Y = np.array(perceptron_data.iloc[:,-1])\n",
    "for i, y in enumerate(Y):\n",
    "    if y == 1:\n",
    "        plt.scatter(X[i,0],X[i,1], color='red')\n",
    "    else:\n",
    "        plt.scatter(X[i,0],X[i,1], color='blue')"
   ]
  },
  {
   "cell_type": "markdown",
   "metadata": {},
   "source": [
    "**NOTE** Plotting using Pandas DataFrame"
   ]
  },
  {
   "cell_type": "code",
   "execution_count": 17,
   "metadata": {
    "scrolled": true
   },
   "outputs": [
    {
     "name": "stdout",
     "output_type": "stream",
     "text": [
      "<class 'pandas.core.frame.DataFrame'> <class 'pandas.core.series.Series'>\n"
     ]
    },
    {
     "data": {
      "image/png": "[encoded data removed]",
      "text/plain": [
       "<Figure size 432x288 with 1 Axes>"
      ]
     },
     "metadata": {
      "needs_background": "light"
     },
     "output_type": "display_data"
    }
   ],
   "source": [
    "perceptron_data = pd.read_csv('CSV/perceptron.csv', header=None)\n",
    "X = perceptron_data.iloc[:,:-1]\n",
    "Y = perceptron_data.iloc[:,-1]\n",
    "print(type(X), type(Y))\n",
    "for i, y in enumerate(Y):\n",
    "    if y == 1:\n",
    "        plt.scatter(X.loc[i,0],X.loc[i,1], color='red')\n",
    "    else:\n",
    "        plt.scatter(X.loc[i,0],X.loc[i,1], color='blue')"
   ]
  },
  {
   "cell_type": "markdown",
   "metadata": {},
   "source": [
    "## Decision Trees\n",
    "\n",
    "Decision trees are a structure for decision-making where each decision leads to a set of consequences or additional decisions.\n",
    "\n",
    "### Entropy\n",
    "\n",
    "* Low - no matter the decision tree is organized, it is the same outcome because the data has a clear split (homogeneous) - high knowledge of data\n",
    "* Medium - few possibilities to organize a decision tree because some data is similar - medium knowledge\n",
    "* High - many possibilities to organize decision tree because data is not homogeneous - low knowledge of the data\n",
    "\n",
    "    > $Entropy = -\\frac{m}{m+n}log_2\\frac{m}{m+n} - \\frac{n}{m+n}log_ \\frac{n}{m+n}$"
   ]
  },
  {
   "cell_type": "code",
   "execution_count": 18,
   "metadata": {},
   "outputs": [
    {
     "data": {
      "text/plain": [
       "0.5982695885852573"
      ]
     },
     "execution_count": 18,
     "metadata": {},
     "output_type": "execute_result"
    }
   ],
   "source": [
    "import math\n",
    "m = 4\n",
    "n = 10\n",
    "- m / (m+n) * math.log(m/(m+n)) - n / (m+n) * math.log(n/(m+n))"
   ]
  },
  {
   "cell_type": "markdown",
   "metadata": {},
   "source": [
    "### Multi-class Entropy\n",
    "\n",
    "Entropy for two classes:\n",
    "\n",
    "> $p_1 = \\frac{m}{m+n}$\n",
    ">\n",
    "> $p_2 = \\frac{n}{m+n}$\n",
    ">\n",
    "> $entropy = -p_1\\log_2(p_1)-p_2\\log_2(p_2)$\n",
    "\n",
    "This entropy equation can be extended to the multi-class case, where we have three or more possible values:\n",
    "\n",
    "> $entropy = -p_1\\log_2(p_1) - p_2\\log_2(p_2) - ... - p_n\\log_2(p_n) = -\\sum\\limits_{i=1}^n p_i\\log_2(p_i) $\n",
    "\n",
    "The minimum value is still 0, when all elements are of the same value. The maximum value is still achieved when the outcome probabilities are the same, but the upper limit increases with the number of different outcomes. (For example, you can verify the maximum entropy is 2 if there are four different possibilities, each with probability 0.25.)"
   ]
  },
  {
   "cell_type": "code",
   "execution_count": 19,
   "metadata": {},
   "outputs": [
    {
     "data": {
      "text/plain": [
       "1.3346791410515946"
      ]
     },
     "execution_count": 19,
     "metadata": {},
     "output_type": "execute_result"
    }
   ],
   "source": [
    "p1 = 8 / 13\n",
    "p2 = 3 / 13\n",
    "p3 = 2 / 13\n",
    "-(p1 * np.log2(p1) + p2 * np.log2(p2) + p3 * np.log2(p3))"
   ]
  },
  {
   "cell_type": "markdown",
   "metadata": {},
   "source": [
    "### Information Gain Formula\n",
    "\n",
    "The average entropy for the child groups will need to be a weighted average, based on the number of cases in each child group. That is, for $m$ items in the first child group and $n$ items in the second child group, the information gain is:\n",
    "\n",
    "$\\mathrm{Information\\;Gain} = \\mathrm{Entropy}(Parent) - \\left[\\frac{m}{m+n}\\mathrm{Entropy}(Child_1) + \\frac{n}{m+n}\\mathrm{Entropy}(Child_2)\\right]$\n",
    "\n",
    "### Hyperparameters for Decision Trees\n",
    "\n",
    "* Maximum Depth - k depth at most $2^{k}$\n",
    "* Minumum Number of Samples to Split - if too little, sample should not be split\n",
    "* Minumum Number of Samples per Leaf - if the split causes a leaf to have too little values, do not split\n",
    "\n",
    "### Overfitting & Underfitting\n",
    "\n",
    "Large depth very often causes overfitting, since a tree that is too deep, can memorize the data. Small depth can result in a very simple model, which may cause underfitting.\n",
    "\n",
    "Small minimum samples per split may result in a complicated, highly branched tree, which can mean the model has memorized the data, or in other words, overfitting. Large minimum samples may result in the tree not having enough flexibility to get built, and may result in underfitting."
   ]
  },
  {
   "cell_type": "code",
   "execution_count": 20,
   "metadata": {},
   "outputs": [],
   "source": [
    "from sklearn.tree import DecisionTreeClassifier\n",
    "\n",
    "model = DecisionTreeClassifier(max_depth = 5, min_samples_leaf = 3)"
   ]
  },
  {
   "cell_type": "code",
   "execution_count": 21,
   "metadata": {},
   "outputs": [],
   "source": [
    "data = np.asarray(pd.read_csv('CSV/decision_tree.csv'))\n",
    "X = data[:,:-1]\n",
    "y = data[:,-1]"
   ]
  },
  {
   "cell_type": "code",
   "execution_count": 22,
   "metadata": {},
   "outputs": [
    {
     "data": {
      "text/plain": [
       "DecisionTreeClassifier(class_weight=None, criterion='gini', max_depth=5,\n",
       "            max_features=None, max_leaf_nodes=None,\n",
       "            min_impurity_decrease=0.0, min_impurity_split=None,\n",
       "            min_samples_leaf=3, min_samples_split=2,\n",
       "            min_weight_fraction_leaf=0.0, presort=False, random_state=None,\n",
       "            splitter='best')"
      ]
     },
     "execution_count": 22,
     "metadata": {},
     "output_type": "execute_result"
    }
   ],
   "source": [
    "model.fit(X, y)"
   ]
  },
  {
   "cell_type": "markdown",
   "metadata": {},
   "source": [
    "### Accuracy\n",
    "To check accuracy of the model, we utilize sklearn.metrics `accuracy_score` on the original input data ($X$) and compare it to our output data ($y$)."
   ]
  },
  {
   "cell_type": "code",
   "execution_count": 23,
   "metadata": {},
   "outputs": [
    {
     "name": "stdout",
     "output_type": "stream",
     "text": [
      "0.968421052631579\n"
     ]
    }
   ],
   "source": [
    "from sklearn.metrics import accuracy_score\n",
    "\n",
    "y_pred = model.predict(X)\n",
    "acc = accuracy_score(y,y_pred)\n",
    "print(acc)"
   ]
  },
  {
   "cell_type": "code",
   "execution_count": 24,
   "metadata": {},
   "outputs": [
    {
     "data": {
      "image/png": "[encoded data removed]",
      "text/plain": [
       "<Figure size 432x288 with 1 Axes>"
      ]
     },
     "metadata": {
      "needs_background": "light"
     },
     "output_type": "display_data"
    }
   ],
   "source": [
    "for x, y in zip(X, y):\n",
    "    if y == 0:\n",
    "        plt.scatter(x[0],x[1], color='blue')\n",
    "    else:\n",
    "        plt.scatter(x[0],x[1], color='red')"
   ]
  },
  {
   "cell_type": "markdown",
   "metadata": {},
   "source": [
    "## Naive Bayes\n",
    "### Bayes Theorem\n",
    "\n",
    "Naive Bayesian Algorithms are powerful tools for creating classifiers for incoming labeled data.  Specifically for Naive Bayes is frequently used with text data and classification problems.\n",
    "\n",
    "We know the probability of A, P(A) and the probability of R given A, P(R|A).  We can infer the probability of A given R occurred, P(A|R).\n",
    "\n",
    "<img src='IMG/Bayes Theorem.png'>\n",
    "\n",
    "Probability of A after the event R occurred.\n",
    "\n",
    "<img src='IMG/Bayes Theorem Example.png'>"
   ]
  },
  {
   "cell_type": "markdown",
   "metadata": {},
   "source": [
    "## Support Vector Machines\n",
    "\n",
    "Support vector machines are a common method for classification problems.  Given labeled training data (supervised learning), the algorithm outputs an optimal hyperplane which categorizes new examples.  They have been proven effective using what is known as the \"kernel\" trick.\n",
    "\n",
    "    Error = C * Classification Error + Margin Error\n",
    "\n",
    "* Classification Error is the error of misclassified points.  C Parameter is the weight we put on classification error depending on the need for spacing the line vs classifyng points correctly.  Large C means focusing on classifying point.  Small C means focusing on spacing and typically has a large Margin.\n",
    "* Margin Error is the error of points classified correctly but within the margin `Wx + b = 1` and `Wx + b = -1`.  Large Margin leads to Small Error.  Small Margin leads to Large Error.  $Error = |W|^{2}$ and $Margin = \\frac{2}{|W|}$\n",
    "\n",
    "Minimize Error using Gradiant Descent\n",
    "\n",
    "<img src='IMG/Margin Error.png'>\n",
    "\n",
    "### Polynomial Kernel\n",
    "\n",
    "Using higher demensions ($x^{2}, xy, x^{2}$) to classify points. \n",
    "\n",
    "<img src='IMG/Poly Kernel.png'>\n",
    "\n",
    "### RBF Kernel\n",
    "\n",
    "<img src='IMG/RBF Kernel.png'>\n",
    "\n",
    "### Support Vector Macines in sklearn\n",
    "\n",
    "    from sklearn.svm import SVC\n",
    "    mode = SVC()\n",
    "    mode.fit(x_values, y_values)\n",
    "    \n",
    "### Hyperparameters\n",
    "\n",
    "* `C`: The C parameter.\n",
    "* `kernel`: The kernel. The most common ones are 'linear', 'poly', and 'rbf'.\n",
    "* `degree`: If the kernel is polynomial, this is the maximum degree of the monomials in the kernel.\n",
    "* `gamma` : If the kernel is rbf, this is the gamma parameter.\n",
    "\n",
    "For example, here we define a model with a polynomial kernel of degree 4, and a C parameter of 0.1.\n",
    "\n",
    "    model = SVC(kernel = 'poly', degree = 4, C = 0.1)"
   ]
  },
  {
   "cell_type": "code",
   "execution_count": 25,
   "metadata": {},
   "outputs": [
    {
     "name": "stdout",
     "output_type": "stream",
     "text": [
      "Accuracy: 1.00\n"
     ]
    },
    {
     "data": {
      "image/png": "[encoded data removed]",
      "text/plain": [
       "<Figure size 432x288 with 1 Axes>"
      ]
     },
     "metadata": {
      "needs_background": "light"
     },
     "output_type": "display_data"
    }
   ],
   "source": [
    "# Import statements \n",
    "from sklearn.svm import SVC\n",
    "from sklearn.metrics import accuracy_score\n",
    "import pandas as pd\n",
    "import numpy as np\n",
    "\n",
    "# Read the data.\n",
    "data = np.asarray(pd.read_csv('CSV/SVM Models.csv', header=None))\n",
    "# Assign the features to the variable X, and the labels to the variable y. \n",
    "X = data[:,0:2]\n",
    "Y = data[:,2]\n",
    "\n",
    "for x, y in zip(X,Y):\n",
    "    if y == 1:\n",
    "        plt.scatter(x[0],x[1], color='red')\n",
    "    else:\n",
    "        plt.scatter(x[0],x[1], color='blue')\n",
    "\n",
    "# TODO: Create the model and assign it to the variable model.\n",
    "# Find the right parameters for this model to achieve 100% accuracy on the dataset.\n",
    "model = SVC(kernel = 'rbf', gamma = 20, C = 1.5)\n",
    "\n",
    "# TODO: Fit the model.\n",
    "model.fit(X, Y)\n",
    "\n",
    "# TODO: Make predictions. Store them in the variable y_pred.\n",
    "y_pred = model.predict(X)\n",
    "\n",
    "# TODO: Calculate the accuracy and assign it to the variable acc.\n",
    "acc = accuracy_score(y_pred, Y)\n",
    "print('Accuracy: {:.2F}'.format(acc))"
   ]
  },
  {
   "cell_type": "markdown",
   "metadata": {},
   "source": [
    "## Ensemble Models\n",
    "\n",
    "Ensemble methods use multiple learning algorithms to better predict.  There are two many methods - bagging and boosting.\n",
    "\n",
    "#### Why Ensemble?\n",
    "\n",
    "* High Bias, Low Variance models tend to underfit data, as they are not flexible. Linear models fall into this category of models.\n",
    "* High Variance, Low Bias models tend to overfit data, as they are too flexible. Decision trees fall into this category of models.\n",
    "\n",
    "In order to find a way to optimize for both variance and bias, we use ensemble methods. Ensemble methods have become some of the most popular methods used to compete in competitions on Kaggle and used in industry across applications.  There are two randomization techniques to combat overfitting:\n",
    "\n",
    "* Bagging (Bootstrap Aggregating) - that is having each model in the ensemble vote with equal weight based on different samplings of the data (with replacement).\n",
    "* Subset the features - in each split of a decision tree or with each algorithm used an ensemble only a subset of the total possible features are used.\n",
    "\n",
    "### Bagging Classifier\n",
    "\n",
    "A Bagging classifier is an ensemble meta-estimator that fits base classifiers each on random subsets of the original dataset and then aggregate their individual predictions (either by voting or by averaging) to form a final prediction.\n",
    "\n",
    "<img src='IMG/Bagging.png'>\n",
    "\n",
    "### RandomnForest Classifier\n",
    "\n",
    "A random forest is an ensemble meta-estimator that fits a number of decision tree classifiers on various sub-samples of the dataset and uses averaging to improve the predictive accuracy and control over-fitting. \n",
    "\n",
    "<img src='IMG/Random Forest.png'>\n",
    "\n",
    "### Adapative Boost Classifier\n",
    "\n",
    "An AdaBoost classifier is an ensemble meta-estimator that begins by fitting a classifier on the original dataset and then fits additional copies of the classifier on the same dataset but where the weights of incorrectly classified instances are adjusted such that subsequent classifiers focus more on difficult cases.\n",
    "\n",
    "<img src='IMG/AdaBoost.png'>\n",
    "\n",
    "Boosting involves incrementally building an ensemble by training each new model instance based on the previous models mistakes.  Training time is often longer."
   ]
  },
  {
   "cell_type": "code",
   "execution_count": 26,
   "metadata": {},
   "outputs": [
    {
     "name": "stdout",
     "output_type": "stream",
     "text": [
      "Accuracy score:  0.9885139985642498\n",
      "Precision score:  0.9720670391061452\n",
      "Recall score:  0.9405405405405406\n",
      "F1 score:  0.9560439560439562\n"
     ]
    }
   ],
   "source": [
    "# Import our libraries\n",
    "import pandas as pd\n",
    "from sklearn.model_selection import train_test_split\n",
    "from sklearn.feature_extraction.text import CountVectorizer\n",
    "from sklearn.naive_bayes import MultinomialNB\n",
    "from sklearn.metrics import accuracy_score, precision_score, recall_score, f1_score\n",
    "\n",
    "\n",
    "# Read in our dataset\n",
    "df = pd.read_table('CSV/SMSSpamCollection',\n",
    "                   sep='\\t', \n",
    "                   header=None, \n",
    "                   names=['label', 'sms_message'])\n",
    "\n",
    "# Fix our response value\n",
    "df['label'] = df.label.map({'ham':0, 'spam':1})\n",
    "\n",
    "# Split our dataset into training and testing data\n",
    "X_train, X_test, y_train, y_test = train_test_split(df['sms_message'], \n",
    "                                                    df['label'], \n",
    "                                                    random_state=1)\n",
    "\n",
    "# Instantiate the CountVectorizer method\n",
    "count_vector = CountVectorizer()\n",
    "\n",
    "# Fit the training data and then return the matrix\n",
    "training_data = count_vector.fit_transform(X_train)\n",
    "\n",
    "# Transform testing data and return the matrix. Note we are not fitting the testing data into the CountVectorizer()\n",
    "testing_data = count_vector.transform(X_test)\n",
    "\n",
    "# Instantiate our model\n",
    "naive_bayes = MultinomialNB()\n",
    "\n",
    "# Fit our model to the training data\n",
    "naive_bayes.fit(training_data, y_train)\n",
    "\n",
    "# Predict on the test data\n",
    "predictions = naive_bayes.predict(testing_data)\n",
    "\n",
    "# Score our model\n",
    "print('Accuracy score: ', format(accuracy_score(y_test, predictions)))\n",
    "print('Precision score: ', format(precision_score(y_test, predictions)))\n",
    "print('Recall score: ', format(recall_score(y_test, predictions)))\n",
    "print('F1 score: ', format(f1_score(y_test, predictions)))"
   ]
  },
  {
   "cell_type": "code",
   "execution_count": 27,
   "metadata": {},
   "outputs": [
    {
     "name": "stdout",
     "output_type": "stream",
     "text": [
      "Accuracy Score for Bagging: 0.9748743718592965\n",
      "Accuracy Score for Random Forest: 0.9834888729361091\n",
      "Accuracy Score for AdaBoost: 0.9770279971284996\n"
     ]
    }
   ],
   "source": [
    "from sklearn.ensemble import BaggingClassifier, RandomForestClassifier, AdaBoostClassifier\n",
    "\n",
    "# Build the model\n",
    "bagging_model = BaggingClassifier(n_estimators = 200)\n",
    "forest_model = RandomForestClassifier(n_estimators = 200)\n",
    "adaboost_model = AdaBoostClassifier(n_estimators = 300, learning_rate = 0.2)\n",
    "\n",
    "# Fit the model to training data\n",
    "bagging_model.fit(training_data, y_train)\n",
    "forest_model.fit(training_data, y_train)\n",
    "adaboost_model.fit(training_data, y_train)\n",
    "\n",
    "# Predict on the test data\n",
    "bagging_prediction = bagging_model.predict(testing_data)\n",
    "forest_prediction = forest_model.predict(testing_data)\n",
    "adaboost_prediction = adaboost_model.predict(testing_data)\n",
    "\n",
    "print('Accuracy Score for Bagging: {}'.format(accuracy_score(y_test, bagging_prediction)))\n",
    "print('Accuracy Score for Random Forest: {}'.format(accuracy_score(y_test, forest_prediction)))\n",
    "print('Accuracy Score for AdaBoost: {}'.format(accuracy_score(y_test, adaboost_prediction)))"
   ]
  },
  {
   "cell_type": "markdown",
   "metadata": {},
   "source": [
    "## Model Evaluation Metrics\n",
    "\n",
    "### Training & Testing Data\n",
    "It is important to always split the data into training and testing to measure how well the model performs on the test set after fitting the training data.  Sklearn `train_test_split` splits dataframes into `X_train`, `X_test`, `y_train`, and `y_test`.  Classifiers have different measures than regressors.\n",
    "\n",
    "### Accuracy\n",
    "\n",
    "Accuracy is often used to compare models, as it tells us the proportion of observations we correctly labeled.\n",
    "\n",
    "<img src='IMG/accuracy.png'>\n",
    "\n",
    "Often accuracy is not the only metric to be optimized. This is especially the case there is class imbalance in the data. Optimizing only accuracy can be misleading in how well the model is truly performing. \n",
    "\n",
    "### Precision\n",
    "Precision focuses on the predicted \"positive\" values in the dataset. By optimizing based on precision values, we are determining if the model is doing a good job of predicting the positive values (true positives over all positive predictions).  \n",
    "\n",
    "<img src='IMG/precision.png'>\n",
    "\n",
    "### Recall\n",
    "Recall focuses on the actual \"positive\" values in the dataset. By optimizing based on recall values, we are determining if the model is doing a good job of predicting the positive values without regard to the actual negative values (true positives over the sum of true positives and false negatives). To perform something similar to recall on the actual 'negative' values, this is called specificity.\n",
    "\n",
    "<img src='IMG/recall.png'>\n",
    "\n",
    "\n",
    "### F-Beta Score\n",
    "In order to look at a combination of metrics at the same time, there are some common techniques like the F-Beta ($F_β$) Score (where the $F_1$ score is frequently used), as well as the ROC and AUC. The β parameter controls the degree to which precision is weighed into the F score. The most common value for beta is 1 - the harmonic average between precision and recall.\n",
    "\n",
    "$F_β = (1 + β^2)\\frac{Precision*Recall}{β^2*Precision + Recall}$\n",
    "\n",
    "\n",
    "### ROC Curve & AUC\n",
    "The Receiver Operating Characteristic (ROC) Curve is a graphical plot that illustrates the diagnostic ability of a binary classifier system as its discremination threshold is varied.  It is created by plotting true positive rate against the false positive rate at various threshold settings.  AUC is the area under the ROC curve. Similar to metrics above, when the AUC is higher (closer to 1), this suggests that the model performance is better than when the metric is close to 0 (perfectly incorrect classifier).\n",
    "\n",
    "<img src='IMG/ROC Curve.png'>\n",
    "\n",
    "It is common to end up using AUC or $F_β$ score often. However, there are always reason to choose one measure over another depending on the situation."
   ]
  },
  {
   "cell_type": "code",
   "execution_count": 28,
   "metadata": {},
   "outputs": [
    {
     "name": "stdout",
     "output_type": "stream",
     "text": [
      "Naive Bayes\n",
      "Accuracy: 0.9885, Percision: 0.9721, Recall: 0.9405, F1: 0.9560 \n",
      "\n",
      "Bagging\n",
      "Accuracy: 0.9749, Percision: 0.9121, Recall: 0.8973, F1: 0.9046 \n",
      "\n",
      "Random Forest\n",
      "Accuracy: 0.9835, Percision: 1.0000, Recall: 0.8757, F1: 0.9337 \n",
      "\n",
      "AdaBoost\n",
      "Accuracy: 0.9770, Percision: 0.9693, Recall: 0.8541, F1: 0.9080 \n",
      "\n"
     ]
    }
   ],
   "source": [
    "models = [predictions, bagging_prediction, forest_prediction, adaboost_prediction]\n",
    "model_names = ['Naive Bayes', 'Bagging', 'Random Forest', 'AdaBoost']\n",
    "for model, name in zip(models, model_names):\n",
    "    accuracy = accuracy_score(y_test, model)\n",
    "    percision = precision_score(y_test, model)\n",
    "    recall = recall_score(y_test, model)\n",
    "    f1 = f1_score(y_test, model)\n",
    "    print(name)\n",
    "    print('Accuracy: {:.4f}, Percision: {:.4f}, Recall: {:.4f}, F1: {:.4f} \\n'.format(accuracy, percision, recall, f1))"
   ]
  },
  {
   "cell_type": "markdown",
   "metadata": {},
   "source": [
    "### Regression Metrics\n",
    "There are three main metrics that are frequently used for regression models: mean absolute error, mean squared error, and $R^2$ values. It is important to note, optimizing on the mean absolute error may lead to a different 'best model' than optimizing on the mean squared error. However, optimizing on the mean squared error will always lead to the same 'best' model as optimizing on the $R^2$ value.  Choosing one versus another is often based on comfort of explaining to someone else.\n",
    "\n",
    "### Mean Absolute Error (MAE)\n",
    "The mean absolute error is a useful metric to optimize on when the values follows a skewed distribution. Using the absolute value is particularly helpful because outliers will not influence the model as the mean squared error. The optimal value for this technique is the median value since the absolute value of the distance from the model would be 0.\n",
    "\n",
    "### Mean-Squared Error (MSE)\n",
    "The mean squared error is by far the most used metric for optimization in regression problems. The best fitting model will minimizes this value. This metric can be greatly impacted by skewed distributions and outliers. In many cases, it is easier to actually optimize on MSE, as the a quadratic term is differentiable. However, an absolute value is not differentiable. This factor makes this metric better for gradient based optimization algorithms.\n",
    "\n",
    "### $R^2$ Score\n",
    "The $R^2$ value is another common regression metric.  It is also known as the coefficient of determination.  Optimizing a model to have the lowest MSE will also optimize a model to have the the highest $R^2$ value. The $R^2$ value is frequently interpreted as the 'amount of variability' captured by a model and is calculated as the explained variation over the total variation."
   ]
  },
  {
   "cell_type": "code",
   "execution_count": 29,
   "metadata": {},
   "outputs": [
    {
     "name": "stdout",
     "output_type": "stream",
     "text": [
      "Decision Tree\n",
      "R2: 0.75, MSE: 19.28, MAE 2.98 \n",
      "\n",
      "Random Forest\n",
      "R2: 0.83, MSE: 13.19, MAE 2.43 \n",
      "\n",
      "Adaptive Boost\n",
      "R2: 0.79, MSE: 15.65, MAE 2.84 \n",
      "\n",
      "Linear\n",
      "R2: 0.73, MSE: 20.72, MAE 3.15 \n",
      "\n"
     ]
    },
    {
     "name": "stderr",
     "output_type": "stream",
     "text": [
      "/anaconda3/lib/python3.7/site-packages/sklearn/ensemble/forest.py:246: FutureWarning: The default value of n_estimators will change from 10 in version 0.20 to 100 in 0.22.\n",
      "  \"10 in version 0.20 to 100 in 0.22.\", FutureWarning)\n"
     ]
    }
   ],
   "source": [
    "from sklearn.datasets import load_boston\n",
    "from sklearn.model_selection import train_test_split\n",
    "from sklearn.tree import DecisionTreeRegressor\n",
    "from sklearn.ensemble import RandomForestRegressor, AdaBoostRegressor\n",
    "from sklearn.linear_model import LinearRegression\n",
    "from sklearn.metrics import r2_score, mean_squared_error, mean_absolute_error\n",
    "import numpy as np\n",
    "\n",
    "boston = load_boston()\n",
    "y = boston.target\n",
    "X = boston.data\n",
    "\n",
    "X_train, X_test, y_train, y_test = train_test_split(\n",
    "            X, y, test_size=0.33, random_state=42)\n",
    "\n",
    "# Instantiate each of the models you imported\n",
    "dtr_model = DecisionTreeRegressor()\n",
    "rfr_model = RandomForestRegressor()\n",
    "abr_model = AdaBoostRegressor()\n",
    "lr_model = LinearRegression()\n",
    "\n",
    "# Fit each of your models using the training data\n",
    "dtr_model.fit(X_train, y_train)\n",
    "rfr_model.fit(X_train, y_train)\n",
    "abr_model.fit(X_train, y_train)\n",
    "lr_model.fit(X_train, y_train)\n",
    "\n",
    "# Predict on the test values for each model\n",
    "dtr_preds = dtr_model.predict(X_test)\n",
    "rfr_preds = rfr_model.predict(X_test)\n",
    "abr_preds = abr_model.predict(X_test)\n",
    "lr_preds = lr_model.predict(X_test)\n",
    "\n",
    "preds = [dtr_preds, rfr_preds, abr_preds, lr_preds]\n",
    "preds_names = ['Decision Tree', 'Random Forest', 'Adaptive Boost', 'Linear']\n",
    "\n",
    "for pred, name in zip(preds,preds_names):\n",
    "    r2_value = r2_score(y_test, pred)\n",
    "    mse_value = mean_squared_error(y_test, pred)\n",
    "    mae_value = mean_absolute_error(y_test, pred)\n",
    "    print(name)\n",
    "    print('R2: {:.2f}, MSE: {:.2f}, MAE {:.2f} \\n'.format(r2_value, mse_value, mae_value))"
   ]
  },
  {
   "cell_type": "markdown",
   "metadata": {},
   "source": [
    "## Training and Tuning\n",
    "### k-Fold Cross Validation\n",
    "Cross-validation is a resampling procedure used to evaluate machine learning models on a limited data sample.  Procedures for k-Fold Cross Validation:\n",
    "1. Shuffle the dataset randomly.\n",
    "2. Split the dataset into k groups.\n",
    "3. For each unique group:\n",
    "    * Take the group as a hold out or test data set.\n",
    "    * Take the remaining groups as a training data set.\n",
    "    * Fit a model on the training set and evaluate it on the test set.\n",
    "    * Retain the evaluation score and discard the model.\n",
    "4. Summarize the skill of the model using the sample of model evaluation scores.\n",
    "\n",
    "### Learning Curves\n",
    "Learning curves helps to determine if the model is being underfit, overfit, or just right.  High training and testing error leads to underfitting.  Low training but high testing error leads to overfitting.  Low training and testing error means the model is just right.\n",
    "<img src='IMG/learning curve.png'>\n",
    "\n",
    "### Hyperparameter Optimization\n",
    "In machine learning, hyperparameter optimization (tuning) is the problem of choosing a set of optimal hyperparameters for a learning algorithm.  The most common is the Grid Search.\n",
    "\n",
    "<img src='IMG/grid search.png'>"
   ]
  },
  {
   "cell_type": "markdown",
   "metadata": {},
   "source": []
  }
 ],
 "metadata": {
  "kernelspec": {
   "display_name": "Python 3",
   "language": "python",
   "name": "python3"
  },
  "language_info": {
   "codemirror_mode": {
    "name": "ipython",
    "version": 3
   },
   "file_extension": ".py",
   "mimetype": "text/x-python",
   "name": "python",
   "nbconvert_exporter": "python",
   "pygments_lexer": "ipython3",
   "version": "3.7.1"
  }
 },
 "nbformat": 4,
 "nbformat_minor": 2
}

{
 "cells": [
  {
   "cell_type": "markdown",
   "metadata": {},
   "source": [
    "# Deep Learning"
   ]
  },
  {
   "cell_type": "markdown",
   "metadata": {},
   "source": [
    "## Intro to Neural Network\n",
    "<img src='IMG/why nueral.png'>\n",
    "\n",
    "### Perceptron Function\n",
    "$sigmoid(x)=\\frac{1}{1+e^{-x}}$\n",
    "<img src='IMG/perceptron.png'>\n",
    "### Softmax\n",
    "$P(i) = \\frac{e^{Zi}}{e^{Z1}+...+e^{Zn}}$\n",
    "Maximum Likelihood is the probability of all points occurring - maximizing probabilities.\n",
    "### Cross-Entropy\n",
    "Cross-Entropy is the $-\\sum_{i=1}^m {y_iln(P_i)+(1-y_i)ln(1-P_i)}$.  A good model will have low cross-entropy.  A bad model with have high cross-entropy.\n",
    "<img src='IMG/cross entropy.png'>\n",
    "<img src='IMG/mc cross entropy.png'>\n",
    "### Gradient Descent Algorithm\n",
    "The line listens to all the points - correct or incorrect.\n"
   ]
  },
  {
   "cell_type": "code",
   "execution_count": null,
   "metadata": {},
   "outputs": [],
   "source": []
  }
 ],
 "metadata": {
  "kernelspec": {
   "display_name": "Python 3",
   "language": "python",
   "name": "python3"
  },
  "language_info": {
   "codemirror_mode": {
    "name": "ipython",
    "version": 3
   },
   "file_extension": ".py",
   "mimetype": "text/x-python",
   "name": "python",
   "nbconvert_exporter": "python",
   "pygments_lexer": "ipython3",
   "version": "3.7.1"
  }
 },
 "nbformat": 4,
 "nbformat_minor": 2
}
